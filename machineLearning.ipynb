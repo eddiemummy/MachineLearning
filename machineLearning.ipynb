{
 "cells": [
  {
   "cell_type": "code",
   "execution_count": 1,
   "id": "3e0adffa-49f9-4a65-ba24-1f4284c398bd",
   "metadata": {},
   "outputs": [],
   "source": [
    "# import modules\n",
    "from sklearn.naive_bayes import GaussianNB\n",
    "from sklearn.tree import DecisionTreeClassifier\n",
    "from sklearn.svm import SVC\n",
    "from sklearn.neural_network import MLPClassifier\n",
    "from sklearn.metrics import accuracy_score\n",
    "from sklearn.model_selection import train_test_split\n",
    "import numpy as np\n",
    "import pandas as pd"
   ]
  },
  {
   "cell_type": "code",
   "execution_count": 6,
   "id": "72a5fc59-0281-4637-9e6c-ed75aeded155",
   "metadata": {},
   "outputs": [],
   "source": [
    "def get_model(X,y,test_size,models=None):\n",
    "    if not isinstance(models,list):\n",
    "        raise TypeError(\"Model must be in a list format\")\n",
    "    # split data into train, validation and test\n",
    "    x_new,x_test,y_new,y_test = train_test_split(X,y,test_size=test_size,random_state=0)\n",
    "    x_train,x_dev,y_train,y_dev = train_test_split(x_new,y_new,test_size=test_size,random_state=0)\n",
    "    ####\n",
    "    x_s = [x_train,x_dev,x_test]\n",
    "    y_s = [y_train,y_dev,y_test]\n",
    "    names =  [\"train\",\"dev\",\"test\"]\n",
    "    models = models\n",
    "    scores = []\n",
    "    for m in models:\n",
    "        for i in range(3):\n",
    "            model = m.fit(x_s[0],y_s[0])\n",
    "            pred = model.predict(x_s[i])\n",
    "            acc = accuracy_score(pred,y_s[i])\n",
    "            scores.append(acc)\n",
    "    columns = [\"train\",\"validation\",\"test\"]\n",
    "    index = [m.__class__.__name__ for m in models]\n",
    "    shape_col = int(len(scores)/3)\n",
    "    data = np.array(scores).reshape(shape_col,3)    \n",
    "    df = pd.DataFrame(data=data,index=index,columns=columns)\n",
    "    return df.transpose()"
   ]
  },
  {
   "cell_type": "code",
   "execution_count": 7,
   "id": "94457890-b7b3-4fe2-9bca-135673e22113",
   "metadata": {},
   "outputs": [],
   "source": [
    "df = pd.read_csv(\"census_income_dataset_preprocessed.csv\")"
   ]
  },
  {
   "cell_type": "code",
   "execution_count": 8,
   "id": "737d2c53-ca87-4155-8649-e653584e7150",
   "metadata": {},
   "outputs": [],
   "source": [
    "X = df.iloc[:,:-1]\n",
    "y = df.iloc[:,-1]"
   ]
  },
  {
   "cell_type": "code",
   "execution_count": 9,
   "id": "aa4191d0-4ce0-449a-8012-12d11b442d8b",
   "metadata": {},
   "outputs": [],
   "source": [
    "data = get_model(X,y,0.1,models = [SVC(),GaussianNB(),DecisionTreeClassifier(random_state=0),MLPClassifier(random_state=0,max_iter=500)])"
   ]
  },
  {
   "cell_type": "code",
   "execution_count": 10,
   "id": "02bbfb77-b2b3-42cb-af9c-8123f8e6318f",
   "metadata": {},
   "outputs": [
    {
     "data": {
      "text/html": [
       "<div>\n",
       "<style scoped>\n",
       "    .dataframe tbody tr th:only-of-type {\n",
       "        vertical-align: middle;\n",
       "    }\n",
       "\n",
       "    .dataframe tbody tr th {\n",
       "        vertical-align: top;\n",
       "    }\n",
       "\n",
       "    .dataframe thead th {\n",
       "        text-align: right;\n",
       "    }\n",
       "</style>\n",
       "<table border=\"1\" class=\"dataframe\">\n",
       "  <thead>\n",
       "    <tr style=\"text-align: right;\">\n",
       "      <th></th>\n",
       "      <th>SVC</th>\n",
       "      <th>GaussianNB</th>\n",
       "      <th>DecisionTreeClassifier</th>\n",
       "      <th>MLPClassifier</th>\n",
       "    </tr>\n",
       "  </thead>\n",
       "  <tbody>\n",
       "    <tr>\n",
       "      <th>train</th>\n",
       "      <td>0.803701</td>\n",
       "      <td>0.799492</td>\n",
       "      <td>0.971865</td>\n",
       "      <td>0.823494</td>\n",
       "    </tr>\n",
       "    <tr>\n",
       "      <th>validation</th>\n",
       "      <td>0.800068</td>\n",
       "      <td>0.799386</td>\n",
       "      <td>0.831116</td>\n",
       "      <td>0.824633</td>\n",
       "    </tr>\n",
       "    <tr>\n",
       "      <th>test</th>\n",
       "      <td>0.793368</td>\n",
       "      <td>0.791526</td>\n",
       "      <td>0.814553</td>\n",
       "      <td>0.815781</td>\n",
       "    </tr>\n",
       "  </tbody>\n",
       "</table>\n",
       "</div>"
      ],
      "text/plain": [
       "                 SVC  GaussianNB  DecisionTreeClassifier  MLPClassifier\n",
       "train       0.803701    0.799492                0.971865       0.823494\n",
       "validation  0.800068    0.799386                0.831116       0.824633\n",
       "test        0.793368    0.791526                0.814553       0.815781"
      ]
     },
     "execution_count": 10,
     "metadata": {},
     "output_type": "execute_result"
    }
   ],
   "source": [
    "data"
   ]
  }
 ],
 "metadata": {
  "kernelspec": {
   "display_name": "Python 3 (ipykernel)",
   "language": "python",
   "name": "python3"
  },
  "language_info": {
   "codemirror_mode": {
    "name": "ipython",
    "version": 3
   },
   "file_extension": ".py",
   "mimetype": "text/x-python",
   "name": "python",
   "nbconvert_exporter": "python",
   "pygments_lexer": "ipython3",
   "version": "3.9.7"
  }
 },
 "nbformat": 4,
 "nbformat_minor": 5
}
